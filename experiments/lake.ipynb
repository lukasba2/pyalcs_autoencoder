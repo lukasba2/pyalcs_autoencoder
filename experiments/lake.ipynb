{
 "cells": [
  {
   "cell_type": "code",
   "execution_count": 1,
   "metadata": {},
   "outputs": [
    {
     "name": "stderr",
     "output_type": "stream",
     "text": [
      "c:\\users\\gosia\\onedrive\\pulpit\\mgr\\mgr\\.venv\\lib\\site-packages\\gym\\envs\\toy_text\\frozen_lake.py:272: UserWarning: \u001b[33mWARN: You are calling render method without specifying any render mode. You can specify the render_mode at initialization, e.g. gym(\"FrozenLake-v1\", render_mode=\"rgb_array\")\u001b[0m\n",
      "  \"You are calling render method without specifying any render mode. \"\n",
      "c:\\users\\gosia\\onedrive\\pulpit\\mgr\\mgr\\.venv\\lib\\site-packages\\gym\\envs\\toy_text\\frozen_lake.py:272: UserWarning: \u001b[33mWARN: You are calling render method without specifying any render mode. You can specify the render_mode at initialization, e.g. gym(\"FrozenLakeNotSlippery-v0\", render_mode=\"rgb_array\")\u001b[0m\n",
      "  \"You are calling render method without specifying any render mode. \"\n"
     ]
    }
   ],
   "source": [
    "import matplotlib.pyplot as plt\n",
    "\n",
    "import gym\n",
    "from gym.envs.registration import register\n",
    "\n",
    "fl_env = gym.make('FrozenLake-v1')\n",
    "\n",
    "# Reset the state\n",
    "state = fl_env.reset()\n",
    "\n",
    "# Render the environment\n",
    "fl_env.render()\n",
    "register(\n",
    "    id='FrozenLakeNotSlippery-v0',\n",
    "    entry_point='gym.envs.toy_text:FrozenLakeEnv',\n",
    "    kwargs={'map_name': '4x4', 'is_slippery': False},\n",
    "    max_episode_steps=100,\n",
    "    reward_threshold=0.78,  # optimum = .8196\n",
    ")\n",
    "\n",
    "fl_ns_env = gym.make('FrozenLakeNotSlippery-v0')\n",
    "\n",
    "# Reset the state\n",
    "state = fl_ns_env.reset()\n",
    "\n",
    "# Render the environment\n",
    "fl_ns_env.render()\n",
    "# Import PyALCS code from local path\n",
    "import sys, os\n",
    "sys.path.append(os.path.abspath('./'))\n",
    "\n",
    "from lcs.agents import EnvironmentAdapter\n",
    "from lcs.agents.acs2 import ACS2, Configuration\n",
    "\n",
    "\n",
    "\n",
    "CLASSIFIER_LENGTH = 16  # Because we are operating in 4x4 grid\n",
    "POSSIBLE_ACTIONS = fl_env.action_space.n  # 4"
   ]
  },
  {
   "cell_type": "code",
   "execution_count": 2,
   "metadata": {},
   "outputs": [
    {
     "ename": "TypeError",
     "evalue": "module() takes at most 2 arguments (3 given)",
     "output_type": "error",
     "traceback": [
      "\u001b[1;31m---------------------------------------------------------------------------\u001b[0m",
      "\u001b[1;31mTypeError\u001b[0m                                 Traceback (most recent call last)",
      "\u001b[1;32m~\\AppData\\Local\\Temp\\ipykernel_10628\\515964561.py\u001b[0m in \u001b[0;36m<module>\u001b[1;34m\u001b[0m\n\u001b[1;32m----> 1\u001b[1;33m \u001b[1;32mclass\u001b[0m \u001b[0mFrozenLakeAdapter\u001b[0m\u001b[1;33m(\u001b[0m\u001b[0mEnvironmentAdapter\u001b[0m\u001b[1;33m)\u001b[0m\u001b[1;33m:\u001b[0m\u001b[1;33m\u001b[0m\u001b[1;33m\u001b[0m\u001b[0m\n\u001b[0m\u001b[0;32m      2\u001b[0m     \u001b[1;33m@\u001b[0m\u001b[0mclassmethod\u001b[0m\u001b[1;33m\u001b[0m\u001b[1;33m\u001b[0m\u001b[0m\n\u001b[0;32m      3\u001b[0m     \u001b[1;32mdef\u001b[0m \u001b[0mto_genotype\u001b[0m\u001b[1;33m(\u001b[0m\u001b[0mcls\u001b[0m\u001b[1;33m,\u001b[0m \u001b[0mphenotype\u001b[0m\u001b[1;33m)\u001b[0m\u001b[1;33m:\u001b[0m\u001b[1;33m\u001b[0m\u001b[1;33m\u001b[0m\u001b[0m\n\u001b[0;32m      4\u001b[0m         \u001b[0mgenotype\u001b[0m \u001b[1;33m=\u001b[0m \u001b[1;33m[\u001b[0m\u001b[1;34m'0'\u001b[0m \u001b[1;32mfor\u001b[0m \u001b[0mi\u001b[0m \u001b[1;32min\u001b[0m \u001b[0mrange\u001b[0m\u001b[1;33m(\u001b[0m\u001b[0mCLASSIFIER_LENGTH\u001b[0m\u001b[1;33m)\u001b[0m\u001b[1;33m]\u001b[0m\u001b[1;33m\u001b[0m\u001b[1;33m\u001b[0m\u001b[0m\n\u001b[0;32m      5\u001b[0m         \u001b[0mgenotype\u001b[0m\u001b[1;33m[\u001b[0m\u001b[0mphenotype\u001b[0m\u001b[1;33m]\u001b[0m \u001b[1;33m=\u001b[0m \u001b[1;34m'X'\u001b[0m\u001b[1;33m\u001b[0m\u001b[1;33m\u001b[0m\u001b[0m\n",
      "\u001b[1;31mTypeError\u001b[0m: module() takes at most 2 arguments (3 given)"
     ]
    }
   ],
   "source": [
    "class FrozenLakeAdapter(EnvironmentAdapter):\n",
    "    @classmethod\n",
    "    def to_genotype(cls, phenotype):\n",
    "        genotype = ['0' for i in range(CLASSIFIER_LENGTH)]\n",
    "        genotype[phenotype] = 'X'\n",
    "        return ''.join(genotype)\n",
    "\n",
    "FrozenLakeAdapter().to_genotype(4)"
   ]
  },
  {
   "cell_type": "code",
   "execution_count": null,
   "metadata": {},
   "outputs": [],
   "source": [
    "from lcs.metrics import population_metrics\n",
    "\n",
    "\n",
    "# We assume if the final state was with number 15 that the algorithm found the reward. Otherwise not\n",
    "def fl_metrics(pop, env):\n",
    "    metrics = {\n",
    "        'found_reward': env.env.s == 15,\n",
    "    }\n",
    "\n",
    "    # Add basic population metrics\n",
    "    metrics.update(population_metrics(pop, env))\n",
    "\n",
    "    return metrics\n",
    "def print_performance(population, metrics):\n",
    "    population.sort(key=lambda cl: -cl.fitness)\n",
    "    population_count = len(population)\n",
    "    reliable_count = len([cl for cl in population if cl.is_reliable()])\n",
    "    successful_trials = sum(m['found_reward'] for m in metrics)\n",
    "\n",
    "    print(\"Number of classifiers: {}\".format(population_count))\n",
    "    print(\"Number of reliable classifiers: {}\".format(reliable_count))\n",
    "    print(\"Percentage of successul trials: {:.2f}%\".format(successful_trials / EXPLOIT_TRIALS  * 100))\n",
    "    print(\"\\nTop 10 classifiers:\")\n",
    "    for cl in population[:10]:\n",
    "        print(\"{!r} \\tq: {:.2f} \\tr: {:.2f} \\tir: {:.2f} \\texp: {}\".format(cl, cl.q, cl.r, cl.ir, cl.exp))\n"
   ]
  },
  {
   "cell_type": "code",
   "execution_count": null,
   "metadata": {},
   "outputs": [],
   "source": [
    "def plot_success_trials(metrics, ax=None):\n",
    "    if ax is None:\n",
    "        ax = plt.gca()\n",
    "\n",
    "    trials = [m['trial'] for m in metrics]\n",
    "    success = [m['found_reward'] for m in metrics]\n",
    "\n",
    "    ax.plot(trials, success)\n",
    "    ax.set_title(\"Successful Trials\")\n",
    "    ax.set_xlabel(\"Trial\")\n",
    "    ax.set_ylabel(\"Agent found reward\")\n",
    "\n",
    "def plot_population(metrics, ax=None):\n",
    "    if ax is None:\n",
    "        ax = plt.gca()\n",
    "\n",
    "    trials = [m['trial'] for m in metrics]\n",
    "\n",
    "    population_size = [m['numerosity'] for m in metrics]\n",
    "    reliable_size = [m['reliable'] for m in metrics]\n",
    "\n",
    "    ax.plot(trials, population_size, 'b', label='all')\n",
    "    ax.plot(trials, reliable_size, 'r', label='reliable')\n",
    "\n",
    "    ax.set_title(\"Population size\")\n",
    "    ax.set_xlabel(\"Trial\")\n",
    "    ax.set_ylabel(\"Number of macroclassifiers\")\n",
    "    ax.legend(loc='best')\n",
    "\n",
    "def plot_population(metrics, ax=None):\n",
    "    if ax is None:\n",
    "        ax = plt.gca()\n",
    "\n",
    "    trials = [m['trial'] for m in metrics]\n",
    "\n",
    "    population_size = [m['numerosity'] for m in metrics]\n",
    "    reliable_size = [m['reliable'] for m in metrics]\n",
    "\n",
    "    ax.plot(trials, population_size, 'b', label='all')\n",
    "    ax.plot(trials, reliable_size, 'r', label='reliable')\n",
    "\n",
    "    ax.set_title(\"Population size\")\n",
    "    ax.set_xlabel(\"Trial\")\n",
    "    ax.set_ylabel(\"Number of macroclassifiers\")\n",
    "    ax.legend(loc='best')"
   ]
  },
  {
   "cell_type": "code",
   "execution_count": null,
   "metadata": {},
   "outputs": [],
   "source": [
    "cfg = Configuration(\n",
    "    classifier_length=CLASSIFIER_LENGTH,\n",
    "    number_of_possible_actions=POSSIBLE_ACTIONS,\n",
    "    environment_adapter=FrozenLakeAdapter(),\n",
    "    metrics_trial_frequency=1,\n",
    "    user_metrics_collector_fcn=fl_metrics,\n",
    "    theta_i=0.3,\n",
    "    epsilon=0.7)\n",
    "\n",
    "print(cfg)"
   ]
  },
  {
   "cell_type": "code",
   "execution_count": null,
   "metadata": {},
   "outputs": [],
   "source": [
    "EXPLORE_TRIALS = 2000\n",
    "EXPLOIT_TRIALS = 100"
   ]
  },
  {
   "cell_type": "code",
   "execution_count": null,
   "metadata": {},
   "outputs": [],
   "source": [
    "def perform_experiment(cfg, env):\n",
    "    # explore phase\n",
    "    agent = ACS2(cfg)\n",
    "    population_explore, metrics_explore = agent.explore(env, EXPLORE_TRIALS)\n",
    "\n",
    "    # exploit phase, reinitialize agent with population above\n",
    "    agent = ACS2(cfg, population=population_explore)\n",
    "    population_exploit, metrics_exploit = agent.exploit(env, EXPLOIT_TRIALS)\n",
    "\n",
    "    return (population_explore, metrics_explore), (population_exploit, metrics_exploit)\n"
   ]
  },
  {
   "cell_type": "code",
   "execution_count": null,
   "metadata": {},
   "outputs": [],
   "source": [
    "explore_results, exploit_results = perform_experiment(cfg, fl_env)\n",
    "print_performance(explore_results[0], explore_results[1])\n",
    "print_performance(exploit_results[0], exploit_results[1])\n",
    "explore_results_2, exploit_results_2 = perform_experiment(cfg, fl_ns_env)\n",
    "print_performance(explore_results_2[0], explore_results_2[1])\n",
    "print_performance(exploit_results_2[0], exploit_results_2[1])"
   ]
  },
  {
   "cell_type": "code",
   "execution_count": null,
   "metadata": {},
   "outputs": [],
   "source": [
    "def plot_population(metrics, ax=None):\n",
    "    if ax is None:\n",
    "        ax = plt.gca()\n",
    "\n",
    "    trials = [m['trial'] for m in metrics]\n",
    "\n",
    "    population_size = [m['numerosity'] for m in metrics]\n",
    "    reliable_size = [m['reliable'] for m in metrics]\n",
    "\n",
    "    ax.plot(trials, population_size, 'b', label='all')\n",
    "    ax.plot(trials, reliable_size, 'r', label='reliable')\n",
    "\n",
    "    ax.set_title(\"Population size\")\n",
    "    ax.set_xlabel(\"Trial\")\n",
    "    ax.set_ylabel(\"Number of macroclassifiers\")\n",
    "    ax.legend(loc='best')"
   ]
  },
  {
   "cell_type": "code",
   "execution_count": null,
   "metadata": {},
   "outputs": [],
   "source": [
    "original = explore_results[1]\n",
    "modified = explore_results_2[1]\n",
    "\n",
    "ax = plt.gca()\n",
    "\n",
    "trials = [m['trial'] for m in original]\n",
    "\n",
    "original_numerosity = [m['numerosity'] for m in original]\n",
    "modified_numerosity = [m['numerosity'] for m in modified]\n",
    "\n",
    "ax.plot(trials, original_numerosity, 'r')\n",
    "ax.text(1000, 350, \"Original environment\", color='r')\n",
    "\n",
    "ax.plot(trials, modified_numerosity, 'b')\n",
    "ax.text(1000, 40, 'No-slippery setting', color='b')\n",
    "\n",
    "\n",
    "ax.set_title('Classifier numerosity in FrozenLake environment')\n",
    "ax.set_xlabel('Trial')\n",
    "ax.set_ylabel('Number of macroclassifiers')"
   ]
  },
  {
   "cell_type": "code",
   "execution_count": null,
   "metadata": {},
   "outputs": [],
   "source": [
    "def plot_checkerboard(plot_filename=None):\n",
    "    import gym_checkerboard  # noqa: F401\n",
    "    checkerboard_env = gym.make('checkerboard-2D-3div-v0')\n",
    "    checkerboard_env.reset()\n",
    "\n",
    "    np_board = checkerboard_env.env._board.board\n",
    "\n",
    "    fig = plt.figure(figsize=(7, 7))\n",
    "    ax = fig.add_subplot(111)\n",
    "\n",
    "    ax.matshow(np_board, cmap=plt.get_cmap('gray_r'), extent=(0, 1, 0, 1), alpha=.5)\n",
    "    ax.set_xlabel(\"x\")\n",
    "    ax.set_ylabel(\"y\")\n",
    "\n",
    "    if plot_filename:\n",
    "        fig.savefig(plot_filename, dpi=PLOT_DPI)\n",
    "\n",
    "    return fig\n",
    "\n",
    "glue('checkerboard-env', plot_checkerboard(f'{plot_dir}/checkerboard-env-visualization.png'), display=False)"
   ]
  },
  {
   "cell_type": "markdown",
   "metadata": {},
   "source": []
  }
 ],
 "metadata": {
  "kernelspec": {
   "display_name": "Python 3 (ipykernel)",
   "language": "python",
   "name": "python3"
  },
  "language_info": {
   "codemirror_mode": {
    "name": "ipython",
    "version": 3
   },
   "file_extension": ".py",
   "mimetype": "text/x-python",
   "name": "python",
   "nbconvert_exporter": "python",
   "pygments_lexer": "ipython3",
   "version": "3.7.9"
  }
 },
 "nbformat": 4,
 "nbformat_minor": 2
}
