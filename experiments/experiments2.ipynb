{
 "cells": [
  {
   "cell_type": "markdown",
   "metadata": {},
   "source": [
    "# ACS2 in Heist environment"
   ]
  },
  {
   "cell_type": "code",
   "execution_count": 2,
   "metadata": {},
   "outputs": [],
   "source": [
    "from __future__ import unicode_literals\n",
    "%matplotlib inline\n",
    "import os\n",
    "import sys\n",
    "sys.path.append(r'C:\\\\Users\\\\gosia\\\\OneDrive\\\\Pulpit\\\\mgr\\\\mgr\\\\heist_autoencoder')\n",
    "sys.path.append(r'C:\\\\Users\\\\gosia\\\\OneDrive\\\\Pulpit\\\\mgr\\\\mgr\\\\heist_autoencoder\\\\utils')\n",
    "\n",
    "import matplotlib\n",
    "import matplotlib.pyplot as plt\n",
    "import matplotlib.ticker as tkr\n",
    "from pylab import cm\n",
    "import pathlib\n",
    "import numpy as np\n",
    "import pandas as pd\n",
    "import logging\n",
    "logging.basicConfig(level=logging.WARN)\n",
    "from lcs import Perception\n",
    "from lcs.agents import EnvironmentAdapter\n",
    "from lcs.agents.acs2 import ACS2, Configuration, ClassifiersList\n",
    "from lcs.metrics import population_metrics\n",
    "import gym"
   ]
  },
  {
   "cell_type": "code",
   "execution_count": 3,
   "metadata": {},
   "outputs": [],
   "source": [
    "from utils.cache import get_from_cache_or_run\n"
   ]
  },
  {
   "cell_type": "code",
   "execution_count": 4,
   "metadata": {},
   "outputs": [
    {
     "ename": "ModuleNotFoundError",
     "evalue": "No module named 'pyalcs'",
     "output_type": "error",
     "traceback": [
      "\u001b[1;31m---------------------------------------------------------------------------\u001b[0m",
      "\u001b[1;31mModuleNotFoundError\u001b[0m                       Traceback (most recent call last)",
      "\u001b[1;32m~\\OneDrive\\Pulpit\\mgr\\mgr\\experiments\\utils\\experiments.py\u001b[0m in \u001b[0;36m<module>\u001b[1;34m\u001b[0m\n\u001b[0;32m      2\u001b[0m \u001b[1;32mfrom\u001b[0m \u001b[0mcollections\u001b[0m \u001b[1;32mimport\u001b[0m \u001b[0mdefaultdict\u001b[0m\u001b[1;33m\u001b[0m\u001b[1;33m\u001b[0m\u001b[0m\n\u001b[0;32m      3\u001b[0m \u001b[1;33m\u001b[0m\u001b[0m\n\u001b[1;32m----> 4\u001b[1;33m \u001b[1;32mimport\u001b[0m \u001b[0mpyalcs\u001b[0m\u001b[1;33m.\u001b[0m\u001b[0mlcs\u001b[0m\u001b[1;33m.\u001b[0m\u001b[0magents\u001b[0m\u001b[1;33m.\u001b[0m\u001b[0maacs2\u001b[0m \u001b[1;32mas\u001b[0m \u001b[0maacs2\u001b[0m\u001b[1;33m\u001b[0m\u001b[1;33m\u001b[0m\u001b[0m\n\u001b[0m\u001b[0;32m      5\u001b[0m \u001b[1;32mimport\u001b[0m \u001b[0mlcs\u001b[0m\u001b[1;33m.\u001b[0m\u001b[0magents\u001b[0m\u001b[1;33m.\u001b[0m\u001b[0macs2\u001b[0m \u001b[1;32mas\u001b[0m \u001b[0macs2\u001b[0m\u001b[1;33m\u001b[0m\u001b[1;33m\u001b[0m\u001b[0m\n\u001b[0;32m      6\u001b[0m \u001b[1;32mimport\u001b[0m \u001b[0mpandas\u001b[0m \u001b[1;32mas\u001b[0m \u001b[0mpd\u001b[0m\u001b[1;33m\u001b[0m\u001b[1;33m\u001b[0m\u001b[0m\n",
      "\u001b[1;31mModuleNotFoundError\u001b[0m: No module named 'pyalcs'"
     ]
    }
   ],
   "source": [
    "# Ścieżka do folderu zawierającego skrypty\n",
    "scripts_folder_path = r'C:\\\\Users\\\\gosia\\\\OneDrive\\\\Pulpit\\\\mgr\\\\mgr\\\\experiments\\\\utils'\n",
    "\n",
    "# Zmiana bieżącego katalogu na katalog zawierający skrypty\n",
    "os.chdir(scripts_folder_path)\n",
    "\n",
    "%run experiments.py\n",
    "%run metrics.py\n",
    "%run plots.py"
   ]
  },
  {
   "cell_type": "code",
   "execution_count": 5,
   "metadata": {},
   "outputs": [],
   "source": [
    "cache_prefix = f'{pathlib.Path().absolute()}/cache/'"
   ]
  },
  {
   "cell_type": "markdown",
   "metadata": {},
   "source": [
    "## Heist Environment"
   ]
  },
  {
   "cell_type": "code",
   "execution_count": 6,
   "metadata": {},
   "outputs": [
    {
     "ename": "UnregisteredEnv",
     "evalue": "No registered env with id: gym_autoencoder.heist.envs:heist-auto-maxpool-v0",
     "output_type": "error",
     "traceback": [
      "\u001b[1;31m---------------------------------------------------------------------------\u001b[0m",
      "\u001b[1;31mKeyError\u001b[0m                                  Traceback (most recent call last)",
      "\u001b[1;32mc:\\Users\\gosia\\OneDrive\\Pulpit\\mgr\\mgr\\.venv\\lib\\site-packages\\gym\\envs\\registration.py\u001b[0m in \u001b[0;36mspec\u001b[1;34m(self, id)\u001b[0m\n\u001b[0;32m    146\u001b[0m         \u001b[1;32mtry\u001b[0m\u001b[1;33m:\u001b[0m\u001b[1;33m\u001b[0m\u001b[1;33m\u001b[0m\u001b[0m\n\u001b[1;32m--> 147\u001b[1;33m             \u001b[1;32mreturn\u001b[0m \u001b[0mself\u001b[0m\u001b[1;33m.\u001b[0m\u001b[0menv_specs\u001b[0m\u001b[1;33m[\u001b[0m\u001b[0mid\u001b[0m\u001b[1;33m]\u001b[0m\u001b[1;33m\u001b[0m\u001b[1;33m\u001b[0m\u001b[0m\n\u001b[0m\u001b[0;32m    148\u001b[0m         \u001b[1;32mexcept\u001b[0m \u001b[0mKeyError\u001b[0m\u001b[1;33m:\u001b[0m\u001b[1;33m\u001b[0m\u001b[1;33m\u001b[0m\u001b[0m\n",
      "\u001b[1;31mKeyError\u001b[0m: 'gym_autoencoder.heist.envs:heist-auto-maxpool-v0'",
      "\nDuring handling of the above exception, another exception occurred:\n",
      "\u001b[1;31mUnregisteredEnv\u001b[0m                           Traceback (most recent call last)",
      "\u001b[1;32m~\\AppData\\Local\\Temp\\ipykernel_19384\\40637138.py\u001b[0m in \u001b[0;36m<module>\u001b[1;34m\u001b[0m\n\u001b[1;32m----> 1\u001b[1;33m \u001b[0menv_maxpool\u001b[0m \u001b[1;33m=\u001b[0m \u001b[0mgym\u001b[0m\u001b[1;33m.\u001b[0m\u001b[0mmake\u001b[0m\u001b[1;33m(\u001b[0m\u001b[1;34m'gym_autoencoder.heist.envs:heist-auto-maxpool-v0'\u001b[0m\u001b[1;33m)\u001b[0m\u001b[1;33m\u001b[0m\u001b[1;33m\u001b[0m\u001b[0m\n\u001b[0m\u001b[0;32m      2\u001b[0m \u001b[0mobservation\u001b[0m \u001b[1;33m=\u001b[0m \u001b[0menv_maxpool\u001b[0m\u001b[1;33m.\u001b[0m\u001b[0mreset\u001b[0m\u001b[1;33m(\u001b[0m\u001b[1;33m)\u001b[0m\u001b[1;33m\u001b[0m\u001b[1;33m\u001b[0m\u001b[0m\n\u001b[0;32m      3\u001b[0m \u001b[0mprint\u001b[0m\u001b[1;33m(\u001b[0m\u001b[1;34m\"Observation:\"\u001b[0m\u001b[1;33m,\u001b[0m \u001b[0mobservation\u001b[0m\u001b[1;33m)\u001b[0m\u001b[1;33m\u001b[0m\u001b[1;33m\u001b[0m\u001b[0m\n\u001b[0;32m      4\u001b[0m \u001b[0menv_maxpool\u001b[0m\u001b[1;33m.\u001b[0m\u001b[0mrender\u001b[0m\u001b[1;33m(\u001b[0m\u001b[1;33m)\u001b[0m\u001b[1;33m\u001b[0m\u001b[1;33m\u001b[0m\u001b[0m\n",
      "\u001b[1;32mc:\\Users\\gosia\\OneDrive\\Pulpit\\mgr\\mgr\\.venv\\lib\\site-packages\\gym\\envs\\registration.py\u001b[0m in \u001b[0;36mmake\u001b[1;34m(id, **kwargs)\u001b[0m\n\u001b[0;32m    169\u001b[0m \u001b[1;33m\u001b[0m\u001b[0m\n\u001b[0;32m    170\u001b[0m \u001b[1;32mdef\u001b[0m \u001b[0mmake\u001b[0m\u001b[1;33m(\u001b[0m\u001b[0mid\u001b[0m\u001b[1;33m,\u001b[0m \u001b[1;33m**\u001b[0m\u001b[0mkwargs\u001b[0m\u001b[1;33m)\u001b[0m\u001b[1;33m:\u001b[0m\u001b[1;33m\u001b[0m\u001b[1;33m\u001b[0m\u001b[0m\n\u001b[1;32m--> 171\u001b[1;33m     \u001b[1;32mreturn\u001b[0m \u001b[0mregistry\u001b[0m\u001b[1;33m.\u001b[0m\u001b[0mmake\u001b[0m\u001b[1;33m(\u001b[0m\u001b[0mid\u001b[0m\u001b[1;33m,\u001b[0m \u001b[1;33m**\u001b[0m\u001b[0mkwargs\u001b[0m\u001b[1;33m)\u001b[0m\u001b[1;33m\u001b[0m\u001b[1;33m\u001b[0m\u001b[0m\n\u001b[0m\u001b[0;32m    172\u001b[0m \u001b[1;33m\u001b[0m\u001b[0m\n\u001b[0;32m    173\u001b[0m \u001b[1;32mdef\u001b[0m \u001b[0mspec\u001b[0m\u001b[1;33m(\u001b[0m\u001b[0mid\u001b[0m\u001b[1;33m)\u001b[0m\u001b[1;33m:\u001b[0m\u001b[1;33m\u001b[0m\u001b[1;33m\u001b[0m\u001b[0m\n",
      "\u001b[1;32mc:\\Users\\gosia\\OneDrive\\Pulpit\\mgr\\mgr\\.venv\\lib\\site-packages\\gym\\envs\\registration.py\u001b[0m in \u001b[0;36mmake\u001b[1;34m(self, id, **kwargs)\u001b[0m\n\u001b[0;32m    120\u001b[0m         \u001b[1;32melse\u001b[0m\u001b[1;33m:\u001b[0m\u001b[1;33m\u001b[0m\u001b[1;33m\u001b[0m\u001b[0m\n\u001b[0;32m    121\u001b[0m             \u001b[0mlogger\u001b[0m\u001b[1;33m.\u001b[0m\u001b[0minfo\u001b[0m\u001b[1;33m(\u001b[0m\u001b[1;34m'Making new env: %s'\u001b[0m\u001b[1;33m,\u001b[0m \u001b[0mid\u001b[0m\u001b[1;33m)\u001b[0m\u001b[1;33m\u001b[0m\u001b[1;33m\u001b[0m\u001b[0m\n\u001b[1;32m--> 122\u001b[1;33m         \u001b[0mspec\u001b[0m \u001b[1;33m=\u001b[0m \u001b[0mself\u001b[0m\u001b[1;33m.\u001b[0m\u001b[0mspec\u001b[0m\u001b[1;33m(\u001b[0m\u001b[0mid\u001b[0m\u001b[1;33m)\u001b[0m\u001b[1;33m\u001b[0m\u001b[1;33m\u001b[0m\u001b[0m\n\u001b[0m\u001b[0;32m    123\u001b[0m         \u001b[0menv\u001b[0m \u001b[1;33m=\u001b[0m \u001b[0mspec\u001b[0m\u001b[1;33m.\u001b[0m\u001b[0mmake\u001b[0m\u001b[1;33m(\u001b[0m\u001b[1;33m**\u001b[0m\u001b[0mkwargs\u001b[0m\u001b[1;33m)\u001b[0m\u001b[1;33m\u001b[0m\u001b[1;33m\u001b[0m\u001b[0m\n\u001b[0;32m    124\u001b[0m         \u001b[1;31m# We used to have people override _reset/_step rather than\u001b[0m\u001b[1;33m\u001b[0m\u001b[1;33m\u001b[0m\u001b[1;33m\u001b[0m\u001b[0m\n",
      "\u001b[1;32mc:\\Users\\gosia\\OneDrive\\Pulpit\\mgr\\mgr\\.venv\\lib\\site-packages\\gym\\envs\\registration.py\u001b[0m in \u001b[0;36mspec\u001b[1;34m(self, id)\u001b[0m\n\u001b[0;32m    155\u001b[0m                 \u001b[1;32mraise\u001b[0m \u001b[0merror\u001b[0m\u001b[1;33m.\u001b[0m\u001b[0mDeprecatedEnv\u001b[0m\u001b[1;33m(\u001b[0m\u001b[1;34m'Env {} not found (valid versions include {})'\u001b[0m\u001b[1;33m.\u001b[0m\u001b[0mformat\u001b[0m\u001b[1;33m(\u001b[0m\u001b[0mid\u001b[0m\u001b[1;33m,\u001b[0m \u001b[0mmatching_envs\u001b[0m\u001b[1;33m)\u001b[0m\u001b[1;33m)\u001b[0m\u001b[1;33m\u001b[0m\u001b[1;33m\u001b[0m\u001b[0m\n\u001b[0;32m    156\u001b[0m             \u001b[1;32melse\u001b[0m\u001b[1;33m:\u001b[0m\u001b[1;33m\u001b[0m\u001b[1;33m\u001b[0m\u001b[0m\n\u001b[1;32m--> 157\u001b[1;33m                 \u001b[1;32mraise\u001b[0m \u001b[0merror\u001b[0m\u001b[1;33m.\u001b[0m\u001b[0mUnregisteredEnv\u001b[0m\u001b[1;33m(\u001b[0m\u001b[1;34m'No registered env with id: {}'\u001b[0m\u001b[1;33m.\u001b[0m\u001b[0mformat\u001b[0m\u001b[1;33m(\u001b[0m\u001b[0mid\u001b[0m\u001b[1;33m)\u001b[0m\u001b[1;33m)\u001b[0m\u001b[1;33m\u001b[0m\u001b[1;33m\u001b[0m\u001b[0m\n\u001b[0m\u001b[0;32m    158\u001b[0m \u001b[1;33m\u001b[0m\u001b[0m\n\u001b[0;32m    159\u001b[0m     \u001b[1;32mdef\u001b[0m \u001b[0mregister\u001b[0m\u001b[1;33m(\u001b[0m\u001b[0mself\u001b[0m\u001b[1;33m,\u001b[0m \u001b[0mid\u001b[0m\u001b[1;33m,\u001b[0m \u001b[1;33m**\u001b[0m\u001b[0mkwargs\u001b[0m\u001b[1;33m)\u001b[0m\u001b[1;33m:\u001b[0m\u001b[1;33m\u001b[0m\u001b[1;33m\u001b[0m\u001b[0m\n",
      "\u001b[1;31mUnregisteredEnv\u001b[0m: No registered env with id: gym_autoencoder.heist.envs:heist-auto-maxpool-v0"
     ]
    }
   ],
   "source": [
    "env_maxpool = gym.make('heist_autoencoder.gym_autoencoder.heist.envs:heist-auto-maxpool-v0')\n",
    "observation = env_maxpool.reset()\n",
    "print(\"Observation:\", observation)\n",
    "env_maxpool.render()"
   ]
  },
  {
   "cell_type": "code",
   "execution_count": null,
   "metadata": {},
   "outputs": [
    {
     "name": "stdout",
     "output_type": "stream",
     "text": [
      "Observation: [ 0.         18.89122     0.          0.          0.          0.\n",
      " 13.824522    1.2203252  13.588886   21.643892    7.669902    0.\n",
      " 11.082521    5.0379176   0.         10.410666    4.9378753   5.5152864\n",
      "  7.6412516   7.487723    0.          2.953337    9.97312     3.3854911\n",
      "  9.393656    0.          0.          0.          0.          0.04432361\n",
      "  0.         11.889985  ]\n"
     ]
    }
   ],
   "source": [
    "env_maxpoolbig = gym.make('gym_autoencoder.heist.envs:heist-auto-maxpool-big-v0')\n",
    "observation = env_maxpoolbig.reset()\n",
    "print(\"Observation:\", observation)\n",
    "env_maxpoolbig.render()"
   ]
  },
  {
   "cell_type": "code",
   "execution_count": null,
   "metadata": {},
   "outputs": [
    {
     "name": "stdout",
     "output_type": "stream",
     "text": [
      "Observation: [ 0.         18.89122     0.          0.          0.          0.\n",
      " 13.824522    1.2203252  13.588886   21.643892    7.669902    0.\n",
      " 11.082521    5.0379176   0.         10.410666    4.9378753   5.5152864\n",
      "  7.6412516   7.487723    0.          2.953337    9.97312     3.3854911\n",
      "  9.393656    0.          0.          0.          0.          0.04432361\n",
      "  0.         11.889985  ]\n"
     ]
    }
   ],
   "source": [
    "env_vaealex = gym.make('gym_autoencoder.heist.envs:heist-vae-alex-v0')\n",
    "env_vaealex.reset()\n",
    "print(\"Observation:\", observation)\n",
    "env_vaealex.render()"
   ]
  },
  {
   "cell_type": "code",
   "execution_count": null,
   "metadata": {},
   "outputs": [],
   "source": []
  },
  {
   "cell_type": "markdown",
   "metadata": {},
   "source": [
    "## Environment setup"
   ]
  },
  {
   "cell_type": "code",
   "execution_count": null,
   "metadata": {},
   "outputs": [],
   "source": []
  },
  {
   "cell_type": "code",
   "execution_count": null,
   "metadata": {},
   "outputs": [],
   "source": [
    "_range, _low = (env_maxpoolbig.observation_space.high - env_maxpoolbig.observation_space.low, env_maxpoolbig.observation_space.low)\n",
    "\n",
    "class DiscretizedWrapper(gym.ObservationWrapper):\n",
    "    def discretize(self, obs, _type=int):\n",
    "        print(\"_low:\", _low)\n",
    "        print(\"_range:\", _range)\n",
    "        print(\"obs:\", obs)\n",
    "        \n",
    "        r = (obs + np.abs(_low)) / _range\n",
    "        print(\"r:\", r)\n",
    "        \n",
    "        b = (r * 10).astype(int)\n",
    "        print(\"b:\", b)\n",
    "        \n",
    "        discretized_obs = b.astype(_type).tolist()\n",
    "        print(\"discretized_obs:\", discretized_obs)\n",
    "        \n",
    "        return discretized_obs\n",
    "    def observation(self, obs):\n",
    "        return self.discretize(obs, _type=int)"
   ]
  },
  {
   "cell_type": "code",
   "execution_count": null,
   "metadata": {},
   "outputs": [],
   "source": [
    "env_maxpool = DiscretizedWrapper(env_maxpool)\n",
    "env_maxpoolbig = DiscretizedWrapper(env_maxpoolbig)\n",
    "env_vaealex = DiscretizedWrapper(env_vaealex)"
   ]
  },
  {
   "cell_type": "markdown",
   "metadata": {},
   "source": [
    "## Basic Metrics"
   ]
  },
  {
   "cell_type": "code",
   "execution_count": null,
   "metadata": {},
   "outputs": [],
   "source": [
    "learning_rate = 0.2\n",
    "discount_factor = 0.95\n",
    "epsilon = 0.2\n",
    "zeta = 0.0001\n",
    "\n",
    "basic_cfg = {\n",
    "    'perception_bits': 32,\n",
    "    'possible_actions': 9,\n",
    "    'do_ga': False,\n",
    "    'beta': learning_rate,\n",
    "    'epsilon': epsilon,\n",
    "    'gamma': discount_factor,\n",
    "    'zeta': zeta,\n",
    "    'user_metrics_collector_fcn': common_metrics,\n",
    "    'biased_exploration_prob': 0,\n",
    "    'metrics_trial_freq': 1\n",
    "}\n",
    "\n",
    "trials = 4000\n",
    "experiments = 5"
   ]
  },
  {
   "cell_type": "code",
   "execution_count": null,
   "metadata": {},
   "outputs": [
    {
     "name": "stdout",
     "output_type": "stream",
     "text": [
      "_low: [-inf -inf -inf -inf -inf -inf -inf -inf -inf -inf -inf -inf -inf -inf\n",
      " -inf -inf -inf -inf -inf -inf -inf -inf -inf -inf -inf -inf -inf -inf\n",
      " -inf -inf -inf -inf]\n",
      "_range: [inf inf inf inf inf inf inf inf inf inf inf inf inf inf inf inf inf inf\n",
      " inf inf inf inf inf inf inf inf inf inf inf inf inf inf]\n",
      "obs: [0.         0.         0.         0.         0.         0.\n",
      " 2.9779801  3.5367608  0.         0.         0.         1.047847\n",
      " 0.5763031  0.         0.         1.4987997  0.         0.\n",
      " 0.9963366  0.         0.         0.         0.         0.21062973\n",
      " 3.3113694  1.8796037  2.2925544  0.         0.         0.\n",
      " 1.6668147  2.9113538 ]\n",
      "r: [nan nan nan nan nan nan nan nan nan nan nan nan nan nan nan nan nan nan\n",
      " nan nan nan nan nan nan nan nan nan nan nan nan nan nan]\n",
      "b: [-2147483648 -2147483648 -2147483648 -2147483648 -2147483648 -2147483648\n",
      " -2147483648 -2147483648 -2147483648 -2147483648 -2147483648 -2147483648\n",
      " -2147483648 -2147483648 -2147483648 -2147483648 -2147483648 -2147483648\n",
      " -2147483648 -2147483648 -2147483648 -2147483648 -2147483648 -2147483648\n",
      " -2147483648 -2147483648 -2147483648 -2147483648 -2147483648 -2147483648\n",
      " -2147483648 -2147483648]\n",
      "discretized_obs: [-2147483648, -2147483648, -2147483648, -2147483648, -2147483648, -2147483648, -2147483648, -2147483648, -2147483648, -2147483648, -2147483648, -2147483648, -2147483648, -2147483648, -2147483648, -2147483648, -2147483648, -2147483648, -2147483648, -2147483648, -2147483648, -2147483648, -2147483648, -2147483648, -2147483648, -2147483648, -2147483648, -2147483648, -2147483648, -2147483648, -2147483648, -2147483648]\n",
      "_low: [-inf -inf -inf -inf -inf -inf -inf -inf -inf -inf -inf -inf -inf -inf\n",
      " -inf -inf -inf -inf -inf -inf -inf -inf -inf -inf -inf -inf -inf -inf\n",
      " -inf -inf -inf -inf]\n",
      "_range: [inf inf inf inf inf inf inf inf inf inf inf inf inf inf inf inf inf inf\n",
      " inf inf inf inf inf inf inf inf inf inf inf inf inf inf]\n",
      "obs: [0.         0.         0.         0.         0.         0.\n",
      " 4.2479973  2.0688617  0.         0.         0.         1.3437787\n",
      " 0.7467062  0.         0.         1.6401925  0.         0.\n",
      " 1.077984   0.         0.         0.         0.         0.41870785\n",
      " 3.7688468  1.2186955  2.4717207  0.         0.         0.\n",
      " 0.57613003 3.2351222 ]\n",
      "r: [nan nan nan nan nan nan nan nan nan nan nan nan nan nan nan nan nan nan\n",
      " nan nan nan nan nan nan nan nan nan nan nan nan nan nan]\n",
      "b: [-2147483648 -2147483648 -2147483648 -2147483648 -2147483648 -2147483648\n",
      " -2147483648 -2147483648 -2147483648 -2147483648 -2147483648 -2147483648\n",
      " -2147483648 -2147483648 -2147483648 -2147483648 -2147483648 -2147483648\n",
      " -2147483648 -2147483648 -2147483648 -2147483648 -2147483648 -2147483648\n",
      " -2147483648 -2147483648 -2147483648 -2147483648 -2147483648 -2147483648\n",
      " -2147483648 -2147483648]\n",
      "discretized_obs: [-2147483648, -2147483648, -2147483648, -2147483648, -2147483648, -2147483648, -2147483648, -2147483648, -2147483648, -2147483648, -2147483648, -2147483648, -2147483648, -2147483648, -2147483648, -2147483648, -2147483648, -2147483648, -2147483648, -2147483648, -2147483648, -2147483648, -2147483648, -2147483648, -2147483648, -2147483648, -2147483648, -2147483648, -2147483648, -2147483648, -2147483648, -2147483648]\n"
     ]
    },
    {
     "name": "stderr",
     "output_type": "stream",
     "text": [
      "C:\\Users\\gosia\\AppData\\Local\\Temp\\ipykernel_4920\\1885347072.py:9: RuntimeWarning: invalid value encountered in divide\n",
      "  r = (obs + np.abs(_low)) / _range\n",
      "C:\\Users\\gosia\\AppData\\Local\\Temp\\ipykernel_4920\\1885347072.py:12: RuntimeWarning: invalid value encountered in cast\n",
      "  b = (r * 10).astype(int)\n"
     ]
    },
    {
     "ename": "TypeError",
     "evalue": "TypedList.__init__() got multiple values for argument 'oktypes'",
     "output_type": "error",
     "traceback": [
      "\u001b[1;31m---------------------------------------------------------------------------\u001b[0m",
      "\u001b[1;31mTypeError\u001b[0m                                 Traceback (most recent call last)",
      "Cell \u001b[1;32mIn[11], line 1\u001b[0m\n\u001b[1;32m----> 1\u001b[0m result \u001b[38;5;241m=\u001b[39m get_from_cache_or_run(\u001b[38;5;124mr\u001b[39m\u001b[38;5;124m'\u001b[39m\u001b[38;5;124mC:\u001b[39m\u001b[38;5;130;01m\\\\\u001b[39;00m\u001b[38;5;124mUsers\u001b[39m\u001b[38;5;130;01m\\\\\u001b[39;00m\u001b[38;5;124mgosia\u001b[39m\u001b[38;5;130;01m\\\\\u001b[39;00m\u001b[38;5;124mOneDrive\u001b[39m\u001b[38;5;130;01m\\\\\u001b[39;00m\u001b[38;5;124mPulpit\u001b[39m\u001b[38;5;130;01m\\\\\u001b[39;00m\u001b[38;5;124mmgr\u001b[39m\u001b[38;5;130;01m\\\\\u001b[39;00m\u001b[38;5;124mmgr\u001b[39m\u001b[38;5;130;01m\\\\\u001b[39;00m\u001b[38;5;124mexperiments\u001b[39m\u001b[38;5;130;01m\\\\\u001b[39;00m\u001b[38;5;124mcache\u001b[39m\u001b[38;5;130;01m\\\\\u001b[39;00m\u001b[38;5;124m4000trials-maxpool-maxpoolbig-vaealex-5exp.dill\u001b[39m\u001b[38;5;124m'\u001b[39m, \u001b[43mavg_experiments\u001b[49m\u001b[43m(\u001b[49m\u001b[43mexperiments\u001b[49m\u001b[43m,\u001b[49m\u001b[43m \u001b[49m\u001b[43menvs\u001b[49m\u001b[38;5;241;43m=\u001b[39;49m\u001b[43m{\u001b[49m\u001b[43m \u001b[49m\u001b[38;5;124;43m\"\u001b[39;49m\u001b[38;5;124;43mMaxPool\u001b[39;49m\u001b[38;5;124;43m\"\u001b[39;49m\u001b[43m:\u001b[49m\u001b[43m \u001b[49m\u001b[43menv_maxpool\u001b[49m\u001b[43m,\u001b[49m\u001b[38;5;124;43m\"\u001b[39;49m\u001b[38;5;124;43mMaxPoolBig\u001b[39;49m\u001b[38;5;124;43m\"\u001b[39;49m\u001b[43m:\u001b[49m\u001b[43m \u001b[49m\u001b[43menv_maxpoolbig\u001b[49m\u001b[43m,\u001b[49m\u001b[43m \u001b[49m\u001b[38;5;124;43m\"\u001b[39;49m\u001b[38;5;124;43mVAEAlex\u001b[39;49m\u001b[38;5;124;43m\"\u001b[39;49m\u001b[43m:\u001b[49m\u001b[43m \u001b[49m\u001b[43menv_vaealex\u001b[49m\u001b[43m}\u001b[49m\u001b[43m,\u001b[49m\u001b[43m \u001b[49m\u001b[43mtrials\u001b[49m\u001b[38;5;241;43m=\u001b[39;49m\u001b[43mtrials\u001b[49m\u001b[43m,\u001b[49m\u001b[43m \u001b[49m\u001b[43mparams\u001b[49m\u001b[38;5;241;43m=\u001b[39;49m\u001b[43mbasic_cfg\u001b[49m\u001b[43m,\u001b[49m\u001b[43mfun\u001b[49m\u001b[38;5;241;43m=\u001b[39;49m\u001b[43mrun_experiments_alternating\u001b[49m\u001b[43m)\u001b[49m)\n",
      "File \u001b[1;32m~\\OneDrive\\Pulpit\\mgr\\mgr\\experiments\\utils\\experiments.py:20\u001b[0m, in \u001b[0;36mavg_experiments\u001b[1;34m(n, fun, envs, trials, params)\u001b[0m\n\u001b[0;32m     17\u001b[0m dfs \u001b[38;5;241m=\u001b[39m []\n\u001b[0;32m     19\u001b[0m \u001b[38;5;28;01mfor\u001b[39;00m i \u001b[38;5;129;01min\u001b[39;00m \u001b[38;5;28mrange\u001b[39m(n):\n\u001b[1;32m---> 20\u001b[0m     p_acs2, p_aacs2v1, p_aacs2v2, m \u001b[38;5;241m=\u001b[39m \u001b[43mfun\u001b[49m\u001b[43m(\u001b[49m\u001b[43menv\u001b[49m\u001b[38;5;241;43m=\u001b[39;49m\u001b[43menv\u001b[49m\u001b[43m,\u001b[49m\u001b[43m \u001b[49m\u001b[43mtrials\u001b[49m\u001b[38;5;241;43m=\u001b[39;49m\u001b[43mtrials\u001b[49m\u001b[43m,\u001b[49m\u001b[43m \u001b[49m\u001b[43mparams\u001b[49m\u001b[38;5;241;43m=\u001b[39;49m\u001b[43mparams\u001b[49m\u001b[43m)\u001b[49m\n\u001b[0;32m     22\u001b[0m     pops_acs2\u001b[38;5;241m.\u001b[39mappend(p_acs2)\n\u001b[0;32m     23\u001b[0m     pops_aacs2v1\u001b[38;5;241m.\u001b[39mappend(p_aacs2v1)\n",
      "File \u001b[1;32m~\\OneDrive\\Pulpit\\mgr\\mgr\\experiments\\utils\\experiments.py:57\u001b[0m, in \u001b[0;36mrun_experiments_alternating\u001b[1;34m(env, trials, params)\u001b[0m\n\u001b[0;32m     45\u001b[0m acs2_cfg \u001b[38;5;241m=\u001b[39m acs2\u001b[38;5;241m.\u001b[39mConfiguration(\n\u001b[0;32m     46\u001b[0m     classifier_length\u001b[38;5;241m=\u001b[39mparams[\u001b[38;5;124m'\u001b[39m\u001b[38;5;124mperception_bits\u001b[39m\u001b[38;5;124m'\u001b[39m],\n\u001b[0;32m     47\u001b[0m     number_of_possible_actions\u001b[38;5;241m=\u001b[39mparams[\u001b[38;5;124m'\u001b[39m\u001b[38;5;124mpossible_actions\u001b[39m\u001b[38;5;124m'\u001b[39m],\n\u001b[1;32m   (...)\u001b[0m\n\u001b[0;32m     53\u001b[0m     biased_exploration_prob\u001b[38;5;241m=\u001b[39mparams[\u001b[38;5;124m'\u001b[39m\u001b[38;5;124mbiased_exploration_prob\u001b[39m\u001b[38;5;124m'\u001b[39m],\n\u001b[0;32m     54\u001b[0m     metrics_trial_frequency\u001b[38;5;241m=\u001b[39mparams[\u001b[38;5;124m'\u001b[39m\u001b[38;5;124mmetrics_trial_freq\u001b[39m\u001b[38;5;124m'\u001b[39m])\n\u001b[0;32m     56\u001b[0m acs2_agent \u001b[38;5;241m=\u001b[39m acs2\u001b[38;5;241m.\u001b[39mACS2(acs2_cfg)\n\u001b[1;32m---> 57\u001b[0m pop_acs2, metrics_acs2 \u001b[38;5;241m=\u001b[39m \u001b[43macs2_agent\u001b[49m\u001b[38;5;241;43m.\u001b[39;49m\u001b[43mexplore_exploit\u001b[49m\u001b[43m(\u001b[49m\u001b[43menv\u001b[49m\u001b[43m,\u001b[49m\u001b[43m \u001b[49m\u001b[43mtrials\u001b[49m\u001b[43m)\u001b[49m\n\u001b[0;32m     59\u001b[0m logging\u001b[38;5;241m.\u001b[39minfo(\u001b[38;5;124m'\u001b[39m\u001b[38;5;124mStarting AACS2-v1 experiments\u001b[39m\u001b[38;5;124m'\u001b[39m)\n\u001b[0;32m     60\u001b[0m aacs2v1_cfg \u001b[38;5;241m=\u001b[39m aacs2\u001b[38;5;241m.\u001b[39mConfiguration(\n\u001b[0;32m     61\u001b[0m     classifier_length\u001b[38;5;241m=\u001b[39mparams[\u001b[38;5;124m'\u001b[39m\u001b[38;5;124mperception_bits\u001b[39m\u001b[38;5;124m'\u001b[39m],\n\u001b[0;32m     62\u001b[0m     number_of_possible_actions\u001b[38;5;241m=\u001b[39mparams[\u001b[38;5;124m'\u001b[39m\u001b[38;5;124mpossible_actions\u001b[39m\u001b[38;5;124m'\u001b[39m],\n\u001b[1;32m   (...)\u001b[0m\n\u001b[0;32m     70\u001b[0m     biased_exploration_prob\u001b[38;5;241m=\u001b[39mparams[\u001b[38;5;124m'\u001b[39m\u001b[38;5;124mbiased_exploration_prob\u001b[39m\u001b[38;5;124m'\u001b[39m],\n\u001b[0;32m     71\u001b[0m     metrics_trial_frequency\u001b[38;5;241m=\u001b[39mparams[\u001b[38;5;124m'\u001b[39m\u001b[38;5;124mmetrics_trial_freq\u001b[39m\u001b[38;5;124m'\u001b[39m])\n",
      "File \u001b[1;32mc:\\Users\\gosia\\AppData\\Local\\Programs\\Python\\Python310\\lib\\site-packages\\pyalcs\\lcs\\agents\\Agent.py:85\u001b[0m, in \u001b[0;36mAgent.explore_exploit\u001b[1;34m(self, env, trials)\u001b[0m\n\u001b[0;32m     82\u001b[0m     \u001b[38;5;28;01melse\u001b[39;00m:\n\u001b[0;32m     83\u001b[0m         \u001b[38;5;28;01mreturn\u001b[39;00m \u001b[38;5;28mself\u001b[39m\u001b[38;5;241m.\u001b[39m_run_trial_exploit(env, \u001b[38;5;28;01mNone\u001b[39;00m, current_trial)\n\u001b[1;32m---> 85\u001b[0m \u001b[38;5;28;01mreturn\u001b[39;00m \u001b[38;5;28;43mself\u001b[39;49m\u001b[38;5;241;43m.\u001b[39;49m\u001b[43m_evaluate\u001b[49m\u001b[43m(\u001b[49m\u001b[43menv\u001b[49m\u001b[43m,\u001b[49m\u001b[43m \u001b[49m\u001b[43mtrials\u001b[49m\u001b[43m,\u001b[49m\u001b[43m \u001b[49m\u001b[43mswitch_phases\u001b[49m\u001b[43m)\u001b[49m\n",
      "File \u001b[1;32mc:\\Users\\gosia\\AppData\\Local\\Programs\\Python\\Python310\\lib\\site-packages\\pyalcs\\lcs\\agents\\Agent.py:112\u001b[0m, in \u001b[0;36mAgent._evaluate\u001b[1;34m(self, env, max_trials, func)\u001b[0m\n\u001b[0;32m    110\u001b[0m metrics: List \u001b[38;5;241m=\u001b[39m []\n\u001b[0;32m    111\u001b[0m \u001b[38;5;28;01mwhile\u001b[39;00m current_trial \u001b[38;5;241m<\u001b[39m max_trials:\n\u001b[1;32m--> 112\u001b[0m     steps_in_trial, reward \u001b[38;5;241m=\u001b[39m \u001b[43mfunc\u001b[49m\u001b[43m(\u001b[49m\u001b[43menv\u001b[49m\u001b[43m,\u001b[49m\u001b[43m \u001b[49m\u001b[43msteps\u001b[49m\u001b[43m,\u001b[49m\u001b[43m \u001b[49m\u001b[43mcurrent_trial\u001b[49m\u001b[43m)\u001b[49m\n\u001b[0;32m    113\u001b[0m     steps \u001b[38;5;241m+\u001b[39m\u001b[38;5;241m=\u001b[39m steps_in_trial\n\u001b[0;32m    115\u001b[0m     \u001b[38;5;28;01mif\u001b[39;00m current_trial \u001b[38;5;241m%\u001b[39m \u001b[38;5;28mself\u001b[39m\u001b[38;5;241m.\u001b[39mget_cfg()\u001b[38;5;241m.\u001b[39mmetrics_trial_frequency \u001b[38;5;241m==\u001b[39m \u001b[38;5;241m0\u001b[39m:\n",
      "File \u001b[1;32mc:\\Users\\gosia\\AppData\\Local\\Programs\\Python\\Python310\\lib\\site-packages\\pyalcs\\lcs\\agents\\Agent.py:81\u001b[0m, in \u001b[0;36mAgent.explore_exploit.<locals>.switch_phases\u001b[1;34m(env, steps, current_trial)\u001b[0m\n\u001b[0;32m     79\u001b[0m \u001b[38;5;28;01mdef\u001b[39;00m \u001b[38;5;21mswitch_phases\u001b[39m(env, steps, current_trial):\n\u001b[0;32m     80\u001b[0m     \u001b[38;5;28;01mif\u001b[39;00m current_trial \u001b[38;5;241m%\u001b[39m \u001b[38;5;241m2\u001b[39m \u001b[38;5;241m==\u001b[39m \u001b[38;5;241m0\u001b[39m:\n\u001b[1;32m---> 81\u001b[0m         \u001b[38;5;28;01mreturn\u001b[39;00m \u001b[38;5;28;43mself\u001b[39;49m\u001b[38;5;241;43m.\u001b[39;49m\u001b[43m_run_trial_explore\u001b[49m\u001b[43m(\u001b[49m\u001b[43menv\u001b[49m\u001b[43m,\u001b[49m\u001b[43m \u001b[49m\u001b[43msteps\u001b[49m\u001b[43m,\u001b[49m\u001b[43m \u001b[49m\u001b[43mcurrent_trial\u001b[49m\u001b[43m)\u001b[49m\n\u001b[0;32m     82\u001b[0m     \u001b[38;5;28;01melse\u001b[39;00m:\n\u001b[0;32m     83\u001b[0m         \u001b[38;5;28;01mreturn\u001b[39;00m \u001b[38;5;28mself\u001b[39m\u001b[38;5;241m.\u001b[39m_run_trial_exploit(env, \u001b[38;5;28;01mNone\u001b[39;00m, current_trial)\n",
      "File \u001b[1;32mc:\\Users\\gosia\\AppData\\Local\\Programs\\Python\\Python310\\lib\\site-packages\\pyalcs\\lcs\\agents\\acs2\\ACS2.py:93\u001b[0m, in \u001b[0;36mACS2._run_trial_explore\u001b[1;34m(self, env, time, current_trial)\u001b[0m\n\u001b[0;32m     91\u001b[0m action \u001b[38;5;241m=\u001b[39m \u001b[38;5;28mself\u001b[39m\u001b[38;5;241m.\u001b[39mcfg\u001b[38;5;241m.\u001b[39maction_selector(match_set)\n\u001b[0;32m     92\u001b[0m logger\u001b[38;5;241m.\u001b[39mdebug(\u001b[38;5;124m\"\u001b[39m\u001b[38;5;130;01m\\t\u001b[39;00m\u001b[38;5;124mExecuting action: [\u001b[39m\u001b[38;5;132;01m%d\u001b[39;00m\u001b[38;5;124m]\u001b[39m\u001b[38;5;124m\"\u001b[39m, action)\n\u001b[1;32m---> 93\u001b[0m action_set \u001b[38;5;241m=\u001b[39m \u001b[43mmatch_set\u001b[49m\u001b[38;5;241;43m.\u001b[39;49m\u001b[43mform_action_set\u001b[49m\u001b[43m(\u001b[49m\u001b[43maction\u001b[49m\u001b[43m)\u001b[49m\n\u001b[0;32m     95\u001b[0m prev_state \u001b[38;5;241m=\u001b[39m Perception(state)\n\u001b[0;32m     96\u001b[0m raw_state, last_reward, done, _ \u001b[38;5;241m=\u001b[39m env\u001b[38;5;241m.\u001b[39mstep(action)\n",
      "File \u001b[1;32mc:\\Users\\gosia\\AppData\\Local\\Programs\\Python\\Python310\\lib\\site-packages\\pyalcs\\lcs\\agents\\acs2\\ClassifiersList.py:29\u001b[0m, in \u001b[0;36mClassifiersList.form_action_set\u001b[1;34m(self, action)\u001b[0m\n\u001b[0;32m     27\u001b[0m \u001b[38;5;28;01mdef\u001b[39;00m \u001b[38;5;21mform_action_set\u001b[39m(\u001b[38;5;28mself\u001b[39m, action: \u001b[38;5;28mint\u001b[39m) \u001b[38;5;241m-\u001b[39m\u001b[38;5;241m>\u001b[39m ClassifiersList:\n\u001b[0;32m     28\u001b[0m     matching \u001b[38;5;241m=\u001b[39m [cl \u001b[38;5;28;01mfor\u001b[39;00m cl \u001b[38;5;129;01min\u001b[39;00m \u001b[38;5;28mself\u001b[39m \u001b[38;5;28;01mif\u001b[39;00m cl\u001b[38;5;241m.\u001b[39maction \u001b[38;5;241m==\u001b[39m action]\n\u001b[1;32m---> 29\u001b[0m     \u001b[38;5;28;01mreturn\u001b[39;00m \u001b[43mClassifiersList\u001b[49m\u001b[43m(\u001b[49m\u001b[38;5;241;43m*\u001b[39;49m\u001b[43mmatching\u001b[49m\u001b[43m)\u001b[49m\n",
      "File \u001b[1;32mc:\\Users\\gosia\\AppData\\Local\\Programs\\Python\\Python310\\lib\\site-packages\\pyalcs\\lcs\\agents\\acs2\\ClassifiersList.py:21\u001b[0m, in \u001b[0;36mClassifiersList.__init__\u001b[1;34m(self, oktypes, *args)\u001b[0m\n\u001b[0;32m     20\u001b[0m \u001b[38;5;28;01mdef\u001b[39;00m \u001b[38;5;21m__init__\u001b[39m(\u001b[38;5;28mself\u001b[39m, \u001b[38;5;241m*\u001b[39margs, oktypes\u001b[38;5;241m=\u001b[39m(Classifier,)) \u001b[38;5;241m-\u001b[39m\u001b[38;5;241m>\u001b[39m \u001b[38;5;28;01mNone\u001b[39;00m:\n\u001b[1;32m---> 21\u001b[0m     \u001b[38;5;28;43msuper\u001b[39;49m\u001b[43m(\u001b[49m\u001b[43m)\u001b[49m\u001b[38;5;241;43m.\u001b[39;49m\u001b[38;5;21;43m__init__\u001b[39;49m\u001b[43m(\u001b[49m\u001b[38;5;241;43m*\u001b[39;49m\u001b[43margs\u001b[49m\u001b[43m,\u001b[49m\u001b[43m \u001b[49m\u001b[43moktypes\u001b[49m\u001b[38;5;241;43m=\u001b[39;49m\u001b[43moktypes\u001b[49m\u001b[43m)\u001b[49m\n",
      "File \u001b[1;32mc:\\Users\\gosia\\AppData\\Local\\Programs\\Python\\Python310\\lib\\site-packages\\pyalcs\\lcs\\agents\\acs\\ClassifiersList.py:15\u001b[0m, in \u001b[0;36mClassifiersList.__init__\u001b[1;34m(self, oktypes, *args)\u001b[0m\n\u001b[0;32m     14\u001b[0m \u001b[38;5;28;01mdef\u001b[39;00m \u001b[38;5;21m__init__\u001b[39m(\u001b[38;5;28mself\u001b[39m, \u001b[38;5;241m*\u001b[39margs, oktypes\u001b[38;5;241m=\u001b[39m(Classifier,)) \u001b[38;5;241m-\u001b[39m\u001b[38;5;241m>\u001b[39m \u001b[38;5;28;01mNone\u001b[39;00m:\n\u001b[1;32m---> 15\u001b[0m     \u001b[38;5;28;43msuper\u001b[39;49m\u001b[43m(\u001b[49m\u001b[43m)\u001b[49m\u001b[38;5;241;43m.\u001b[39;49m\u001b[38;5;21;43m__init__\u001b[39;49m\u001b[43m(\u001b[49m\u001b[38;5;241;43m*\u001b[39;49m\u001b[43margs\u001b[49m\u001b[43m,\u001b[49m\u001b[43m \u001b[49m\u001b[43moktypes\u001b[49m\u001b[38;5;241;43m=\u001b[39;49m\u001b[43moktypes\u001b[49m\u001b[43m)\u001b[49m\n",
      "\u001b[1;31mTypeError\u001b[0m: TypedList.__init__() got multiple values for argument 'oktypes'"
     ]
    },
    {
     "ename": "",
     "evalue": "",
     "output_type": "error",
     "traceback": [
      "\u001b[1;31mThe Kernel crashed while executing code in the current cell or a previous cell. \n",
      "\u001b[1;31mPlease review the code in the cell(s) to identify a possible cause of the failure. \n",
      "\u001b[1;31mClick <a href='https://aka.ms/vscodeJupyterKernelCrash'>here</a> for more info. \n",
      "\u001b[1;31mView Jupyter <a href='command:jupyter.viewOutput'>log</a> for further details."
     ]
    }
   ],
   "source": [
    "result = get_from_cache_or_run(r'C:\\\\Users\\\\gosia\\\\OneDrive\\\\Pulpit\\\\mgr\\\\mgr\\\\experiments\\\\cache\\\\4000trials-maxpool-maxpoolbig-vaealex-5exp.dill', avg_experiments(experiments, envs={ \"MaxPool\": env_maxpool,\"MaxPoolBig\": env_maxpoolbig, \"VAEAlex\": env_vaealex}, trials=trials, params=basic_cfg,fun=run_experiments_alternating))"
   ]
  }
 ],
 "metadata": {
  "kernelspec": {
   "display_name": "Python 3",
   "language": "python",
   "name": "python3"
  },
  "language_info": {
   "codemirror_mode": {
    "name": "ipython",
    "version": 3
   },
   "file_extension": ".py",
   "mimetype": "text/x-python",
   "name": "python",
   "nbconvert_exporter": "python",
   "pygments_lexer": "ipython3",
   "version": "3.7.9"
  }
 },
 "nbformat": 4,
 "nbformat_minor": 2
}
